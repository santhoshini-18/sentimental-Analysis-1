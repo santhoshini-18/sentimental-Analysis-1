{
  "cells": [
    {
      "cell_type": "markdown",
      "metadata": {
        "id": "kEb-3b4I_LIv"
      },
      "source": [
        "* `Sentiment Analysis` is an application of NLP that is used to understand people’s opinions. \n",
        "\n"
      ]
    },
    {
      "cell_type": "code",
      "execution_count": 1,
      "metadata": {
        "colab": {
          "base_uri": "https://localhost:8080/"
        },
        "id": "XPVJs9aI-3NU",
        "outputId": "2332fdee-00de-4390-ee8f-a5ae00007a67"
      },
      "outputs": [
        {
          "name": "stderr",
          "output_type": "stream",
          "text": [
            "[nltk_data] Downloading package vader_lexicon to /root/nltk_data...\n"
          ]
        },
        {
          "data": {
            "text/plain": [
              "True"
            ]
          },
          "execution_count": 1,
          "metadata": {},
          "output_type": "execute_result"
        }
      ],
      "source": [
        "from nltk.sentiment.vader import SentimentIntensityAnalyzer\n",
        "import nltk\n",
        "nltk.download('vader_lexicon') #   <--- download the sentiment lexicon which is \n",
        "# used to calculate the sentiment score"
      ]
    },
    {
      "cell_type": "code",
      "execution_count": 2,
      "metadata": {
        "colab": {
          "base_uri": "https://localhost:8080/"
        },
        "id": "f8vsL54u_0_m",
        "outputId": "41c9f5aa-a402-41ff-99d4-91fd3587010b"
      },
      "outputs": [
        {
          "name": "stdout",
          "output_type": "stream",
          "text": [
            "Please Rate Our Services >>: 4\n",
            "{'neg': 0.0, 'neu': 0.0, 'pos': 0.0, 'compound': 0.0}\n"
          ]
        }
      ],
      "source": [
        "user_input = input(\"Please Rate Our Services >>: \")\n",
        "sid = SentimentIntensityAnalyzer()\n",
        "score = sid.polarity_scores(user_input)\n",
        "print(score)"
      ]
    },
    {
      "cell_type": "code",
      "execution_count": 3,
      "metadata": {
        "colab": {
          "base_uri": "https://localhost:8080/"
        },
        "id": "92zbNGLP_9An",
        "outputId": "554f70bf-2cec-4869-bda8-48d2a1769837"
      },
      "outputs": [
        {
          "name": "stdout",
          "output_type": "stream",
          "text": [
            "Please Rate Our Services >>: 4\n",
            "Positive\n"
          ]
        }
      ],
      "source": [
        "user_input = input(\"Please Rate Our Services >>: \")\n",
        "sid = SentimentIntensityAnalyzer()\n",
        "score = sid.polarity_scores(user_input)\n",
        "if score[\"neg\"] != 0:\n",
        "      print(\"Negative\")\n",
        "else:\n",
        "      print(\"Positive\")"
      ]
    }
  ],
  "metadata": {
    "accelerator": "GPU",
    "colab": {
      "provenance": []
    },
    "gpuClass": "standard",
    "kernelspec": {
      "display_name": "Python 3",
      "language": "python",
      "name": "python3"
    },
    "language_info": {
      "name": "python",
      "version": "3.10.6 (main, Nov 14 2022, 16:10:14) [GCC 11.3.0]"
    },
    "vscode": {
      "interpreter": {
        "hash": "916dbcbb3f70747c44a77c7bcd40155683ae19c65e1c03b4aa3499c5328201f1"
      }
    }
  },
  "nbformat": 4,
  "nbformat_minor": 0
}
